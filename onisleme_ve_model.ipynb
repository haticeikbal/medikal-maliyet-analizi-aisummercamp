{
  "cells": [
    {
      "cell_type": "code",
      "execution_count": 2,
      "metadata": {
        "id": "JW_rULlYVbnh"
      },
      "outputs": [],
      "source": [
        "import pandas as pd\n",
        "import numpy as np\n",
        "import matplotlib.pyplot as plt\n",
        "import seaborn as sns\n",
        "from sklearn.preprocessing import OneHotEncoder, LabelEncoder, MinMaxScaler \n",
        "from sklearn.model_selection import train_test_split, cross_val_score, GridSearchCV\n",
        "from sklearn.metrics import r2_score, mean_squared_error, mean_absolute_error, mean_squared_log_error\n",
        "from xgboost import XGBRegressor\n",
        "from lightgbm import LGBMRegressor\n",
        "from sklearn.linear_model import LinearRegression\n",
        "from sklearn.ensemble import RandomForestRegressor\n",
        "from sklearn.neighbors import KNeighborsRegressor"
      ]
    },
    {
      "cell_type": "code",
      "execution_count": 3,
      "metadata": {
        "colab": {
          "base_uri": "https://localhost:8080/",
          "height": 206
        },
        "id": "WWWRb9HgV9k5",
        "outputId": "691ea84e-f572-4628-d618-77ade314a5cd"
      },
      "outputs": [
        {
          "data": {
            "text/html": [
              "<div>\n",
              "<style scoped>\n",
              "    .dataframe tbody tr th:only-of-type {\n",
              "        vertical-align: middle;\n",
              "    }\n",
              "\n",
              "    .dataframe tbody tr th {\n",
              "        vertical-align: top;\n",
              "    }\n",
              "\n",
              "    .dataframe thead th {\n",
              "        text-align: right;\n",
              "    }\n",
              "</style>\n",
              "<table border=\"1\" class=\"dataframe\">\n",
              "  <thead>\n",
              "    <tr style=\"text-align: right;\">\n",
              "      <th></th>\n",
              "      <th>age</th>\n",
              "      <th>sex</th>\n",
              "      <th>bmi</th>\n",
              "      <th>children</th>\n",
              "      <th>smoker</th>\n",
              "      <th>region</th>\n",
              "      <th>charges</th>\n",
              "    </tr>\n",
              "  </thead>\n",
              "  <tbody>\n",
              "    <tr>\n",
              "      <th>0</th>\n",
              "      <td>19</td>\n",
              "      <td>female</td>\n",
              "      <td>27.900</td>\n",
              "      <td>0</td>\n",
              "      <td>yes</td>\n",
              "      <td>southwest</td>\n",
              "      <td>16884.92400</td>\n",
              "    </tr>\n",
              "    <tr>\n",
              "      <th>1</th>\n",
              "      <td>18</td>\n",
              "      <td>male</td>\n",
              "      <td>33.770</td>\n",
              "      <td>1</td>\n",
              "      <td>no</td>\n",
              "      <td>southeast</td>\n",
              "      <td>1725.55230</td>\n",
              "    </tr>\n",
              "    <tr>\n",
              "      <th>2</th>\n",
              "      <td>28</td>\n",
              "      <td>male</td>\n",
              "      <td>33.000</td>\n",
              "      <td>3</td>\n",
              "      <td>no</td>\n",
              "      <td>southeast</td>\n",
              "      <td>4449.46200</td>\n",
              "    </tr>\n",
              "    <tr>\n",
              "      <th>3</th>\n",
              "      <td>33</td>\n",
              "      <td>male</td>\n",
              "      <td>22.705</td>\n",
              "      <td>0</td>\n",
              "      <td>no</td>\n",
              "      <td>northwest</td>\n",
              "      <td>21984.47061</td>\n",
              "    </tr>\n",
              "    <tr>\n",
              "      <th>4</th>\n",
              "      <td>32</td>\n",
              "      <td>male</td>\n",
              "      <td>28.880</td>\n",
              "      <td>0</td>\n",
              "      <td>no</td>\n",
              "      <td>northwest</td>\n",
              "      <td>3866.85520</td>\n",
              "    </tr>\n",
              "  </tbody>\n",
              "</table>\n",
              "</div>"
            ],
            "text/plain": [
              "   age     sex     bmi  children smoker     region      charges\n",
              "0   19  female  27.900         0    yes  southwest  16884.92400\n",
              "1   18    male  33.770         1     no  southeast   1725.55230\n",
              "2   28    male  33.000         3     no  southeast   4449.46200\n",
              "3   33    male  22.705         0     no  northwest  21984.47061\n",
              "4   32    male  28.880         0     no  northwest   3866.85520"
            ]
          },
          "execution_count": 3,
          "metadata": {},
          "output_type": "execute_result"
        }
      ],
      "source": [
        "try:\n",
        "    df = pd.read_csv(\"data/insurance.csv\")\n",
        "except:\n",
        "    df = pd.read_csv(\"https://raw.githubusercontent.com/ysntrkc/ai-summer-camp-proje-1/main/data/insurance.csv?token=GHSAT0AAAAAABWZWGRVHO76I7S3ZQSMCHSKYYAYSNQ\")\n",
        "df.head()"
      ]
    },
    {
      "cell_type": "code",
      "execution_count": 4,
      "metadata": {
        "colab": {
          "base_uri": "https://localhost:8080/"
        },
        "id": "KXu4lx1yWWJG",
        "outputId": "56422a19-82c6-4220-db46-a8aaf5d1a917"
      },
      "outputs": [
        {
          "name": "stdout",
          "output_type": "stream",
          "text": [
            "<class 'pandas.core.frame.DataFrame'>\n",
            "RangeIndex: 1338 entries, 0 to 1337\n",
            "Data columns (total 7 columns):\n",
            " #   Column    Non-Null Count  Dtype  \n",
            "---  ------    --------------  -----  \n",
            " 0   age       1338 non-null   int64  \n",
            " 1   sex       1338 non-null   object \n",
            " 2   bmi       1338 non-null   float64\n",
            " 3   children  1338 non-null   int64  \n",
            " 4   smoker    1338 non-null   object \n",
            " 5   region    1338 non-null   object \n",
            " 6   charges   1338 non-null   float64\n",
            "dtypes: float64(2), int64(2), object(3)\n",
            "memory usage: 73.3+ KB\n"
          ]
        }
      ],
      "source": [
        "df.info()"
      ]
    },
    {
      "cell_type": "markdown",
      "metadata": {},
      "source": [
        "## Veri Ön İşleme Yapılması"
      ]
    },
    {
      "cell_type": "code",
      "execution_count": 5,
      "metadata": {
        "colab": {
          "base_uri": "https://localhost:8080/",
          "height": 270
        },
        "id": "Cp4X2h2RiQDD",
        "outputId": "f3af49db-6ed7-4c88-a0b3-6b1df9881726"
      },
      "outputs": [
        {
          "data": {
            "text/html": [
              "<div>\n",
              "<style scoped>\n",
              "    .dataframe tbody tr th:only-of-type {\n",
              "        vertical-align: middle;\n",
              "    }\n",
              "\n",
              "    .dataframe tbody tr th {\n",
              "        vertical-align: top;\n",
              "    }\n",
              "\n",
              "    .dataframe thead th {\n",
              "        text-align: right;\n",
              "    }\n",
              "</style>\n",
              "<table border=\"1\" class=\"dataframe\">\n",
              "  <thead>\n",
              "    <tr style=\"text-align: right;\">\n",
              "      <th></th>\n",
              "      <th>age</th>\n",
              "      <th>bmi</th>\n",
              "      <th>children</th>\n",
              "      <th>charges</th>\n",
              "      <th>sex_female</th>\n",
              "      <th>sex_male</th>\n",
              "      <th>smoker_no</th>\n",
              "      <th>smoker_yes</th>\n",
              "      <th>region_northeast</th>\n",
              "      <th>region_northwest</th>\n",
              "      <th>region_southeast</th>\n",
              "      <th>region_southwest</th>\n",
              "    </tr>\n",
              "  </thead>\n",
              "  <tbody>\n",
              "    <tr>\n",
              "      <th>0</th>\n",
              "      <td>19</td>\n",
              "      <td>27.900</td>\n",
              "      <td>0</td>\n",
              "      <td>16884.92400</td>\n",
              "      <td>1</td>\n",
              "      <td>0</td>\n",
              "      <td>0</td>\n",
              "      <td>1</td>\n",
              "      <td>0</td>\n",
              "      <td>0</td>\n",
              "      <td>0</td>\n",
              "      <td>1</td>\n",
              "    </tr>\n",
              "    <tr>\n",
              "      <th>1</th>\n",
              "      <td>18</td>\n",
              "      <td>33.770</td>\n",
              "      <td>1</td>\n",
              "      <td>1725.55230</td>\n",
              "      <td>0</td>\n",
              "      <td>1</td>\n",
              "      <td>1</td>\n",
              "      <td>0</td>\n",
              "      <td>0</td>\n",
              "      <td>0</td>\n",
              "      <td>1</td>\n",
              "      <td>0</td>\n",
              "    </tr>\n",
              "    <tr>\n",
              "      <th>2</th>\n",
              "      <td>28</td>\n",
              "      <td>33.000</td>\n",
              "      <td>3</td>\n",
              "      <td>4449.46200</td>\n",
              "      <td>0</td>\n",
              "      <td>1</td>\n",
              "      <td>1</td>\n",
              "      <td>0</td>\n",
              "      <td>0</td>\n",
              "      <td>0</td>\n",
              "      <td>1</td>\n",
              "      <td>0</td>\n",
              "    </tr>\n",
              "    <tr>\n",
              "      <th>3</th>\n",
              "      <td>33</td>\n",
              "      <td>22.705</td>\n",
              "      <td>0</td>\n",
              "      <td>21984.47061</td>\n",
              "      <td>0</td>\n",
              "      <td>1</td>\n",
              "      <td>1</td>\n",
              "      <td>0</td>\n",
              "      <td>0</td>\n",
              "      <td>1</td>\n",
              "      <td>0</td>\n",
              "      <td>0</td>\n",
              "    </tr>\n",
              "    <tr>\n",
              "      <th>4</th>\n",
              "      <td>32</td>\n",
              "      <td>28.880</td>\n",
              "      <td>0</td>\n",
              "      <td>3866.85520</td>\n",
              "      <td>0</td>\n",
              "      <td>1</td>\n",
              "      <td>1</td>\n",
              "      <td>0</td>\n",
              "      <td>0</td>\n",
              "      <td>1</td>\n",
              "      <td>0</td>\n",
              "      <td>0</td>\n",
              "    </tr>\n",
              "  </tbody>\n",
              "</table>\n",
              "</div>"
            ],
            "text/plain": [
              "   age     bmi  children      charges  sex_female  sex_male  smoker_no  \\\n",
              "0   19  27.900         0  16884.92400           1         0          0   \n",
              "1   18  33.770         1   1725.55230           0         1          1   \n",
              "2   28  33.000         3   4449.46200           0         1          1   \n",
              "3   33  22.705         0  21984.47061           0         1          1   \n",
              "4   32  28.880         0   3866.85520           0         1          1   \n",
              "\n",
              "   smoker_yes  region_northeast  region_northwest  region_southeast  \\\n",
              "0           1                 0                 0                 0   \n",
              "1           0                 0                 0                 1   \n",
              "2           0                 0                 0                 1   \n",
              "3           0                 0                 1                 0   \n",
              "4           0                 0                 1                 0   \n",
              "\n",
              "   region_southwest  \n",
              "0                 1  \n",
              "1                 0  \n",
              "2                 0  \n",
              "3                 0  \n",
              "4                 0  "
            ]
          },
          "execution_count": 5,
          "metadata": {},
          "output_type": "execute_result"
        }
      ],
      "source": [
        "# One Hot Encoding metodu ile kategorik verileri özel kolonlara dönüştürüyoruz.\n",
        "ohe_cols = [\"sex\", \"smoker\", \"region\"]\n",
        "df = pd.get_dummies(df, columns=ohe_cols)\n",
        "df.head()"
      ]
    },
    {
      "cell_type": "code",
      "execution_count": 6,
      "metadata": {
        "id": "D5UDKIifjCXe"
      },
      "outputs": [],
      "source": [
        "# Feturelar ve Targetı X ve y olarak ayırıyoruz.\n",
        "y = df[[\"charges\"]]\n",
        "X = df.drop(columns=[\"charges\"])"
      ]
    },
    {
      "cell_type": "code",
      "execution_count": 7,
      "metadata": {
        "id": "E1iaI1QFjf2F"
      },
      "outputs": [],
      "source": [
        "# train_test_split ile train ve test verilerini ayırıyoruz.\n",
        "X_train, X_test, y_train, y_test = train_test_split(X, y, test_size=0.3, random_state=42)"
      ]
    },
    {
      "cell_type": "code",
      "execution_count": 8,
      "metadata": {
        "id": "n3XEoDbCk7XX"
      },
      "outputs": [],
      "source": [
        "# scale yapacağımız sütunları belirledik ve normalize ediyoruz.\n",
        "scale_cols = [\"age\", \"bmi\", \"children\"]\n",
        "scaler = MinMaxScaler()\n",
        "train = scaler.fit_transform(X_train[scale_cols])\n",
        "test = scaler.transform(X_test[scale_cols])\n",
        "X_train[scale_cols] = train\n",
        "X_test[scale_cols] = test"
      ]
    },
    {
      "cell_type": "code",
      "execution_count": 9,
      "metadata": {
        "id": "iImBIehbagpe"
      },
      "outputs": [],
      "source": [
        "x = scaler.fit_transform(X[scale_cols])\n",
        "X[scale_cols] = x"
      ]
    },
    {
      "cell_type": "markdown",
      "metadata": {},
      "source": [
        "## Model Seçme\n",
        "Bu kısımda 5 farklı regresyon algoritması seçtik ve bu algoritmaların performanslarını ölçtük.\n",
        "* Bu algoritmalar xgboost, linear regression, random forest, k-nearest neighbors, ve lightgbmdir."
      ]
    },
    {
      "cell_type": "markdown",
      "metadata": {},
      "source": [
        "#### Modellerin Düz Halleri İle Performanslarının Ölçülmesi"
      ]
    },
    {
      "cell_type": "code",
      "execution_count": 10,
      "metadata": {
        "colab": {
          "base_uri": "https://localhost:8080/"
        },
        "id": "XVWsBNqnorHP",
        "outputId": "2dd3fb71-ca7f-4097-94ac-cdc62d431890"
      },
      "outputs": [
        {
          "name": "stdout",
          "output_type": "stream",
          "text": [
            "XGBRegressor \n",
            "R2 Score: 0.8208627272043386 \n",
            "RMSE: 5125.024745472466\n"
          ]
        }
      ],
      "source": [
        "xgb = XGBRegressor(objective=\"reg:squarederror\")\n",
        "xgb.fit(X_train, y_train)\n",
        "pred = xgb.predict(X_test)\n",
        "xgb_r2 = r2_score(y_test, pred)\n",
        "xgb_rmse = np.sqrt(mean_squared_error(y_test, pred))\n",
        "print(f\"XGBRegressor \\nR2 Score: {xgb_r2} \\nRMSE: {xgb_rmse}\")"
      ]
    },
    {
      "cell_type": "code",
      "execution_count": 11,
      "metadata": {
        "colab": {
          "base_uri": "https://localhost:8080/"
        },
        "id": "EZxhqLhfX8E3",
        "outputId": "567457da-5904-42ab-86cc-b64776c64a51"
      },
      "outputs": [
        {
          "name": "stdout",
          "output_type": "stream",
          "text": [
            "LinearRegressor \n",
            "R2 Score: 0.7696118054369011 \n",
            "RMSE: 5812.100272258871\n"
          ]
        }
      ],
      "source": [
        "lr = LinearRegression()\n",
        "lr.fit(X_train, y_train)\n",
        "pred = lr.predict(X_test)\n",
        "lr_r2 = r2_score(y_test, pred)\n",
        "lr_rmse = np.sqrt(mean_squared_error(y_test, pred))\n",
        "print(f\"LinearRegressor \\nR2 Score: {lr_r2} \\nRMSE: {lr_rmse}\")"
      ]
    },
    {
      "cell_type": "code",
      "execution_count": 12,
      "metadata": {
        "colab": {
          "base_uri": "https://localhost:8080/"
        },
        "id": "xLbhGIT_YLTD",
        "outputId": "f10615c5-e15a-4a1b-a697-ea60fc9310b0"
      },
      "outputs": [
        {
          "name": "stdout",
          "output_type": "stream",
          "text": [
            "RandomForestRegressor \n",
            "R2 Score: 0.8511603460518066 \n",
            "RMSE: 4671.564111446518\n"
          ]
        }
      ],
      "source": [
        "rfr = RandomForestRegressor()\n",
        "rfr.fit(X_train, y_train.values.ravel())\n",
        "pred = rfr.predict(X_test)\n",
        "rfr_r2 = r2_score(y_test, pred)\n",
        "rfr_rmse = np.sqrt(mean_squared_error(y_test, pred))\n",
        "print(f\"RandomForestRegressor \\nR2 Score: {rfr_r2} \\nRMSE: {rfr_rmse}\")"
      ]
    },
    {
      "cell_type": "code",
      "execution_count": 13,
      "metadata": {
        "colab": {
          "base_uri": "https://localhost:8080/"
        },
        "id": "lKGarE0AYq0I",
        "outputId": "8f868062-7c6a-4834-d76e-78f67b0fc80b"
      },
      "outputs": [
        {
          "name": "stdout",
          "output_type": "stream",
          "text": [
            "KNeighborsRegressor \n",
            "R2 Score: 0.7786539147491962 \n",
            "RMSE: 5696.904120219449\n"
          ]
        }
      ],
      "source": [
        "knn = KNeighborsRegressor()\n",
        "knn.fit(X_train, y_train)\n",
        "pred = knn.predict(X_test)\n",
        "knn_r2 = r2_score(y_test, pred)\n",
        "knn_rmse = np.sqrt(mean_squared_error(y_test, pred))\n",
        "print(f\"KNeighborsRegressor \\nR2 Score: {knn_r2} \\nRMSE: {knn_rmse}\")"
      ]
    },
    {
      "cell_type": "code",
      "execution_count": 14,
      "metadata": {
        "colab": {
          "base_uri": "https://localhost:8080/"
        },
        "id": "xGu5T32VcfbY",
        "outputId": "73faf408-63fc-4128-b21f-8fbbf854a115"
      },
      "outputs": [
        {
          "name": "stdout",
          "output_type": "stream",
          "text": [
            "LGBMRegressor \n",
            "R2 Score: 0.8555977221914436 \n",
            "RMSE: 4601.400226237108\n"
          ]
        }
      ],
      "source": [
        "lgbm = LGBMRegressor()\n",
        "lgbm.fit(X_train, y_train)\n",
        "pred = lgbm.predict(X_test)\n",
        "lgbm_r2 = r2_score(y_test, pred)\n",
        "lgbm_rmse = np.sqrt(mean_squared_error(y_test, pred))\n",
        "print(f\"LGBMRegressor \\nR2 Score: {lgbm_r2} \\nRMSE: {lgbm_rmse}\")"
      ]
    },
    {
      "cell_type": "code",
      "execution_count": 15,
      "metadata": {},
      "outputs": [],
      "source": [
        "r2_scores = {\"XGBRegressor\": xgb_r2, \"LinearRegressor\": lr_r2, \"RandomForestRegressor\": rfr_r2, \"KNeighborsRegressor\": knn_r2, \"LGBMRegressor\": lgbm_r2}\n",
        "rmse_scores = {\"XGBRegressor\": xgb_rmse, \"LinearRegressor\": lr_rmse, \"RandomForestRegressor\": rfr_rmse, \"KNeighborsRegressor\": knn_rmse, \"LGBMRegressor\": lgbm_rmse}"
      ]
    },
    {
      "cell_type": "code",
      "execution_count": 16,
      "metadata": {},
      "outputs": [
        {
          "data": {
            "image/png": "[encoded data removed]",
            "text/plain": [
              "<Figure size 432x288 with 1 Axes>"
            ]
          },
          "metadata": {
            "needs_background": "light"
          },
          "output_type": "display_data"
        }
      ],
      "source": [
        "ax = sns.barplot(x=list(r2_scores.keys()), y=list(r2_scores.values()))\n",
        "ax.bar_label(ax.containers[0])\n",
        "plt.xticks(rotation=30)\n",
        "plt.title(\"R2 Score\")\n",
        "plt.ylim((0, 1))\n",
        "plt.show()"
      ]
    },
    {
      "cell_type": "markdown",
      "metadata": {},
      "source": [
        "#### Modellerin Cross Validation İle Performanslarının Ölçülmesi"
      ]
    },
    {
      "cell_type": "code",
      "execution_count": 17,
      "metadata": {
        "colab": {
          "base_uri": "https://localhost:8080/"
        },
        "id": "zHRNSZuZZ99z",
        "outputId": "5d47b9b6-81da-4b38-80f8-363aed54aa1e"
      },
      "outputs": [],
      "source": [
        "score_xgb = cross_val_score(xgb, X, y, cv=5).mean()\n",
        "score_lr = cross_val_score(lr, X, y, cv=5).mean()\n",
        "score_rfr = cross_val_score(rfr, X, y.values.ravel(), cv=5).mean()\n",
        "score_knn = cross_val_score(knn, X, y, cv=5).mean()\n",
        "score_lgbm = cross_val_score(lgbm, X, y, cv=5).mean()"
      ]
    },
    {
      "cell_type": "code",
      "execution_count": 18,
      "metadata": {},
      "outputs": [
        {
          "data": {
            "image/png": "[encoded data removed]",
            "text/plain": [
              "<Figure size 432x288 with 1 Axes>"
            ]
          },
          "metadata": {
            "needs_background": "light"
          },
          "output_type": "display_data"
        }
      ],
      "source": [
        "cv_scores = {\"XGBRegressor\": score_xgb, \"LinearRegressor\": score_lr, \"RandomForestRegressor\": score_rfr, \"KNeighborsRegressor\": score_knn, \"LGBMRegressor\": score_lgbm}\n",
        "ax = sns.barplot(x=list(cv_scores.keys()), y=list(cv_scores.values()))\n",
        "ax.bar_label(ax.containers[0])\n",
        "plt.title(\"Cross Validation Score\")\n",
        "plt.xticks(rotation=30)\n",
        "plt.ylim((0, 1))\n",
        "plt.show()"
      ]
    },
    {
      "cell_type": "markdown",
      "metadata": {},
      "source": [
        "## Hiper-parametre Optimizasyonu\n",
        "Google Colab'de yaptığımız ilk denemelerde XGBoost daha iyi performans verdiği için bu algoritmayı kullanıyoruz."
      ]
    },
    {
      "cell_type": "code",
      "execution_count": 19,
      "metadata": {
        "colab": {
          "base_uri": "https://localhost:8080/"
        },
        "id": "qoIwkpm9dL3Q",
        "outputId": "181987e5-3d03-4192-ecf0-f2ceea3d0670"
      },
      "outputs": [
        {
          "name": "stdout",
          "output_type": "stream",
          "text": [
            "Fitting 3 folds for each of 1 candidates, totalling 3 fits\n"
          ]
        },
        {
          "data": {
            "text/plain": [
              "GridSearchCV(cv=3,\n",
              "             estimator=XGBRegressor(base_score=0.5, booster='gbtree',\n",
              "                                    callbacks=None, colsample_bylevel=1,\n",
              "                                    colsample_bynode=1, colsample_bytree=1,\n",
              "                                    early_stopping_rounds=None,\n",
              "                                    enable_categorical=False, eval_metric=None,\n",
              "                                    gamma=0, gpu_id=-1, grow_policy='depthwise',\n",
              "                                    importance_type=None,\n",
              "                                    interaction_constraints='',\n",
              "                                    learning_rate=0.300000012, max_bin=256,\n",
              "                                    max_cat...\n",
              "                                    monotone_constraints='()', n_estimators=100,\n",
              "                                    n_jobs=0, num_parallel_tree=1,\n",
              "                                    predictor='auto', random_state=0,\n",
              "                                    reg_alpha=0, reg_lambda=1, ...),\n",
              "             n_jobs=5,\n",
              "             param_grid={'colsample_bytree': [0.7], 'learning_rate': [0.02],\n",
              "                         'max_depth': [3], 'min_child_weight': [4],\n",
              "                         'n_estimators': [275], 'nthread': [4],\n",
              "                         'objective': ['reg:squarederror'], 'reg_alpha': [1.15],\n",
              "                         'reg_lambda': [1.35], 'subsample': [0.7]},\n",
              "             verbose=True)"
            ]
          },
          "execution_count": 19,
          "metadata": {},
          "output_type": "execute_result"
        }
      ],
      "source": [
        "parameters = {'nthread':[4], #when use hyperthread, xgboost may become slower\n",
        "              'objective':['reg:squarederror'],\n",
        "              'learning_rate': [.02], #so called `eta` value\n",
        "              'max_depth': [3],\n",
        "              'min_child_weight': [4],\n",
        "              'subsample': [0.7],\n",
        "              'colsample_bytree': [0.7],\n",
        "              'n_estimators': [275],\n",
        "              'reg_alpha': [1.15],\n",
        "              'reg_lambda': [1.35],}\n",
        "xgb_grid = GridSearchCV(xgb, \n",
        "                        param_grid=parameters,\n",
        "                        cv=3,\n",
        "                        n_jobs=5,\n",
        "                        verbose=True)\n",
        "xgb_grid.fit(X_train, y_train)"
      ]
    },
    {
      "cell_type": "code",
      "execution_count": 20,
      "metadata": {
        "colab": {
          "base_uri": "https://localhost:8080/"
        },
        "id": "vo_SW2Y2e0-e",
        "outputId": "35b2493d-c3fd-4800-c08a-5d77c15b5abe"
      },
      "outputs": [
        {
          "name": "stdout",
          "output_type": "stream",
          "text": [
            "0.8495952149287026\n"
          ]
        }
      ],
      "source": [
        "print(xgb_grid.best_score_)"
      ]
    },
    {
      "cell_type": "code",
      "execution_count": 21,
      "metadata": {
        "colab": {
          "base_uri": "https://localhost:8080/"
        },
        "id": "w_kcoOBQfjVu",
        "outputId": "4e113624-7619-40c9-8059-196bbe3d49f1"
      },
      "outputs": [
        {
          "data": {
            "text/plain": [
              "{'colsample_bytree': 0.7,\n",
              " 'learning_rate': 0.02,\n",
              " 'max_depth': 3,\n",
              " 'min_child_weight': 4,\n",
              " 'n_estimators': 275,\n",
              " 'nthread': 4,\n",
              " 'objective': 'reg:squarederror',\n",
              " 'reg_alpha': 1.15,\n",
              " 'reg_lambda': 1.35,\n",
              " 'subsample': 0.7}"
            ]
          },
          "execution_count": 21,
          "metadata": {},
          "output_type": "execute_result"
        }
      ],
      "source": [
        "xgb_grid.best_params_"
      ]
    },
    {
      "cell_type": "code",
      "execution_count": 22,
      "metadata": {
        "colab": {
          "base_uri": "https://localhost:8080/"
        },
        "id": "ksur8-gmijos",
        "outputId": "7c3a1dd6-1502-48d2-ab77-6d4dc7f0fe42"
      },
      "outputs": [
        {
          "name": "stdout",
          "output_type": "stream",
          "text": [
            "XGBRegressor \n",
            "R2 Score: 0.8731460137786737 \n",
            "RMSE: 4312.757578778684\n"
          ]
        }
      ],
      "source": [
        "pred = xgb_grid.predict(X_test)\n",
        "print(f\"XGBRegressor \\nR2 Score: {r2_score(y_test, pred)} \\nRMSE: {(mean_squared_error(y_test, pred)) ** 0.5}\")"
      ]
    },
    {
      "cell_type": "code",
      "execution_count": 23,
      "metadata": {
        "colab": {
          "base_uri": "https://localhost:8080/"
        },
        "id": "sGYRSX67kx1L",
        "outputId": "692469e4-88c1-4e3f-ab20-fe1ccf9d5bd6"
      },
      "outputs": [
        {
          "name": "stdout",
          "output_type": "stream",
          "text": [
            "\n",
            "    XGBRegressor\n",
            "    R2 Score: 0.8731460137786737\n",
            "    MSE: 18599877.93331297\n",
            "    RMSE: 4312.757578778684\n",
            "    MAE: 2421.712807287916\n",
            "    RMAE: 49.21090130538066\n",
            "    MSLE: 0.17061437748329528\n",
            "    RMSLE: 0.41305493276717475\n",
            "\n"
          ]
        }
      ],
      "source": [
        "# Evaluation Metrics\n",
        "print(f\"\"\"\n",
        "    XGBRegressor\n",
        "    R2 Score: {r2_score(y_test, pred)}\n",
        "    MSE: {mean_squared_error(y_test, pred)}\n",
        "    RMSE: {(mean_squared_error(y_test, pred)) ** 0.5}\n",
        "    MAE: {mean_absolute_error(y_test, pred)}\n",
        "    RMAE: {(mean_absolute_error(y_test, pred)) ** 0.5}\n",
        "    MSLE: {mean_squared_log_error(y_test, pred)}\n",
        "    RMSLE: {(mean_squared_log_error(y_test, pred)) ** 0.5}\n",
        "\"\"\")"
      ]
    }
  ],
  "metadata": {
    "colab": {
      "collapsed_sections": [],
      "name": "onisleme-model.ipynb",
      "provenance": []
    },
    "kernelspec": {
      "display_name": "Python 3.9.12 ('base')",
      "language": "python",
      "name": "python3"
    },
    "language_info": {
      "codemirror_mode": {
        "name": "ipython",
        "version": 3
      },
      "file_extension": ".py",
      "mimetype": "text/x-python",
      "name": "python",
      "nbconvert_exporter": "python",
      "pygments_lexer": "ipython3",
      "version": "3.9.12"
    },
    "vscode": {
      "interpreter": {
        "hash": "c63ddfc3ea35055ee7c4315c5b7da9d24ccbe0fde7eb8ead2d3578075a9f13f5"
      }
    }
  },
  "nbformat": 4,
  "nbformat_minor": 0
}
